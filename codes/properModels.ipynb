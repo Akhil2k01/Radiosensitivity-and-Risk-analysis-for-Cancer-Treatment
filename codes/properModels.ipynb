{
 "cells": [
  {
   "cell_type": "markdown",
   "id": "bf53e605",
   "metadata": {},
   "source": [
    "# This notebook is used to train the model and save it"
   ]
  },
  {
   "cell_type": "markdown",
   "id": "edcfa716",
   "metadata": {},
   "source": [
    "#### Note: Check the paths and image shape before running"
   ]
  },
  {
   "cell_type": "markdown",
   "id": "df7a59c6",
   "metadata": {},
   "source": [
    "### This model uses Unet model concept"
   ]
  },
  {
   "cell_type": "code",
   "execution_count": 7,
   "id": "896e5f91",
   "metadata": {},
   "outputs": [
    {
     "name": "stdout",
     "output_type": "stream",
     "text": [
      "Epoch 1/20\n",
      "4/4 [==============================] - 6s 2s/step - loss: -2.5227 - accuracy: 0.4452\n",
      "Epoch 2/20\n",
      "4/4 [==============================] - 6s 2s/step - loss: -3.0044 - accuracy: 0.6296\n",
      "Epoch 3/20\n",
      "4/4 [==============================] - 6s 2s/step - loss: 1.9417 - accuracy: 0.9588\n",
      "Epoch 4/20\n",
      "4/4 [==============================] - 6s 2s/step - loss: -3.0464 - accuracy: 0.7522\n",
      "Epoch 5/20\n",
      "4/4 [==============================] - 8s 2s/step - loss: -3.9311 - accuracy: 0.8068\n",
      "Epoch 6/20\n",
      "4/4 [==============================] - 8s 2s/step - loss: -4.4246 - accuracy: 0.8927\n",
      "Epoch 7/20\n",
      "4/4 [==============================] - 9s 2s/step - loss: -3.2705 - accuracy: 0.8940\n",
      "Epoch 8/20\n",
      "4/4 [==============================] - 7s 2s/step - loss: -3.9740 - accuracy: 0.8354\n",
      "Epoch 9/20\n",
      "4/4 [==============================] - 6s 2s/step - loss: -3.7330 - accuracy: 0.8194\n",
      "Epoch 10/20\n",
      "4/4 [==============================] - 5s 1s/step - loss: -2.5891 - accuracy: 0.9077\n",
      "Epoch 11/20\n",
      "4/4 [==============================] - 5s 1s/step - loss: -3.6762 - accuracy: 0.8168\n",
      "Epoch 12/20\n",
      "4/4 [==============================] - 5s 1s/step - loss: -3.1359 - accuracy: 0.7280\n",
      "Epoch 13/20\n",
      "4/4 [==============================] - 6s 1s/step - loss: -3.2162 - accuracy: 0.7227\n",
      "Epoch 14/20\n",
      "4/4 [==============================] - 5s 1s/step - loss: -3.6703 - accuracy: 0.7790\n",
      "Epoch 15/20\n",
      "4/4 [==============================] - 5s 1s/step - loss: -3.8497 - accuracy: 0.7972\n",
      "Epoch 16/20\n",
      "4/4 [==============================] - 5s 1s/step - loss: -3.4946 - accuracy: 0.7749\n",
      "Epoch 17/20\n",
      "4/4 [==============================] - 5s 1s/step - loss: -3.6057 - accuracy: 0.8011\n",
      "Epoch 18/20\n",
      "4/4 [==============================] - 5s 1s/step - loss: -4.0577 - accuracy: 0.8578\n",
      "Epoch 19/20\n",
      "4/4 [==============================] - 5s 1s/step - loss: -3.8911 - accuracy: 0.9257\n",
      "Epoch 20/20\n",
      "4/4 [==============================] - 6s 1s/step - loss: -4.0723 - accuracy: 0.8635\n",
      "WARNING:tensorflow:5 out of the last 5 calls to <function Model.make_test_function.<locals>.test_function at 0x000002991419B280> triggered tf.function retracing. Tracing is expensive and the excessive number of tracings could be due to (1) creating @tf.function repeatedly in a loop, (2) passing tensors with different shapes, (3) passing Python objects instead of tensors. For (1), please define your @tf.function outside of the loop. For (2), @tf.function has experimental_relax_shapes=True option that relaxes argument shapes that can avoid unnecessary retracing. For (3), please refer to https://www.tensorflow.org/tutorials/customization/performance#python_or_tensor_args and https://www.tensorflow.org/api_docs/python/tf/function for  more details.\n",
      "1/1 [==============================] - 0s 998us/step - loss: -2.8802 - accuracy: 0.8980\n",
      "Test accuracy: 89.8023247718811\n"
     ]
    }
   ],
   "source": [
    "import cv2\n",
    "import numpy as np\n",
    "import os\n",
    "import tensorflow as tf\n",
    "from tensorflow import keras\n",
    "from sklearn.model_selection import train_test_split\n",
    "\n",
    "# Load the image data and corresponding masks\n",
    "image_dir = 'try/sliced'\n",
    "mask_dir = 'try/masks/chromosome_mask'\n",
    "\n",
    "#image_dir = 'sliced'\n",
    "#mask_dir = 'masks'\n",
    "\n",
    "image_filenames = os.listdir(image_dir)\n",
    "mask_filenames = os.listdir(mask_dir)\n",
    "\n",
    "# Split the data into training and testing sets\n",
    "train_images, test_images, train_masks, test_masks = train_test_split(image_filenames, mask_filenames, test_size=0.2)\n",
    "\n",
    "# Define the model\n",
    "model = keras.Sequential([\n",
    "    keras.layers.InputLayer(input_shape=(153, 122, 3)),\n",
    "    keras.layers.Conv2D(32, kernel_size=3, activation='relu', padding='same'),\n",
    "    keras.layers.Conv2D(64, kernel_size=3, activation='relu', padding='same'),\n",
    "    keras.layers.Conv2D(128, kernel_size=3, activation='relu', padding='same'),\n",
    "    keras.layers.Conv2D(64, kernel_size=3, activation='relu', padding='same'),\n",
    "    keras.layers.Conv2D(32, kernel_size=3, activation='relu', padding='same'),\n",
    "    keras.layers.Conv2D(1, kernel_size=1, activation='sigmoid', padding='same'),\n",
    "])\n",
    "\n",
    "# Compile the model\n",
    "model.compile(optimizer='adam', loss='binary_crossentropy', metrics=['accuracy'])\n",
    "\n",
    "# Train the model\n",
    "train_images = np.array([cv2.imread(os.path.join(image_dir, filename)) for filename in train_images])\n",
    "train_masks = np.array([cv2.imread(os.path.join(mask_dir, filename), 0) for filename in train_masks])\n",
    "\n",
    "model.fit(train_images, train_masks, epochs=20, batch_size=4)\n",
    "\n",
    "# Evaluate the model on the testing set\n",
    "test_images = np.array([cv2.imread(os.path.join(image_dir, filename)) for filename in test_images])\n",
    "test_masks = np.array([cv2.imread(os.path.join(mask_dir, filename), 0) for filename in test_masks])\n",
    "\n",
    "test_loss, test_acc = model.evaluate(test_images, test_masks)\n",
    "print('Test accuracy:', test_acc*100)\n",
    "\n",
    "model.save(\"model2.h5\")"
   ]
  },
  {
   "cell_type": "code",
   "execution_count": null,
   "id": "3f9f457f",
   "metadata": {},
   "outputs": [],
   "source": []
  },
  {
   "cell_type": "code",
   "execution_count": null,
   "id": "b888f794",
   "metadata": {},
   "outputs": [],
   "source": []
  },
  {
   "cell_type": "code",
   "execution_count": null,
   "id": "ea092f8a",
   "metadata": {},
   "outputs": [],
   "source": []
  },
  {
   "cell_type": "code",
   "execution_count": null,
   "id": "3c70784f",
   "metadata": {},
   "outputs": [],
   "source": []
  },
  {
   "cell_type": "code",
   "execution_count": null,
   "id": "b0f9b175",
   "metadata": {},
   "outputs": [],
   "source": []
  }
 ],
 "metadata": {
  "kernelspec": {
   "display_name": "Python 3 (ipykernel)",
   "language": "python",
   "name": "python3"
  },
  "language_info": {
   "codemirror_mode": {
    "name": "ipython",
    "version": 3
   },
   "file_extension": ".py",
   "mimetype": "text/x-python",
   "name": "python",
   "nbconvert_exporter": "python",
   "pygments_lexer": "ipython3",
   "version": "3.8.8"
  }
 },
 "nbformat": 4,
 "nbformat_minor": 5
}
